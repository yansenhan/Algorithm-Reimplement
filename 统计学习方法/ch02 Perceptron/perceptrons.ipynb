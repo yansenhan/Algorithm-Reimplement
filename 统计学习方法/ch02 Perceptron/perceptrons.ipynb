{
 "cells": [
  {
   "cell_type": "markdown",
   "metadata": {},
   "source": [
    "### Ch 02: Perceptrons 感知机"
   ]
  },
  {
   "cell_type": "markdown",
   "metadata": {},
   "source": [
    "- Author: Yansen HAN\n",
    "- Date: June 5, 2019"
   ]
  },
  {
   "cell_type": "markdown",
   "metadata": {},
   "source": [
    "#### 感知机学习算法的原始形式与对偶形式\n",
    "- 个人看法：当数据量过大时，该对偶方法不再可行，因为每次判定需要使用全部数据。 \n",
    "- 猜测：所有对偶方法都不适用于实践，仅仅适用于 模型 / 算法 的分析。"
   ]
  },
  {
   "cell_type": "code",
   "execution_count": 4,
   "metadata": {},
   "outputs": [],
   "source": [
    "import numpy as np\n",
    "\n",
    "class perceptron():\n",
    "    '''\n",
    "    This class contains two kinds of perceptrons, prime form and dual form.\n",
    "    \n",
    "    Parameters:\n",
    "    -- learning_rate: learning rate. default: 0.1\n",
    "    '''\n",
    "    def __init__(self, learning_rate=0.1):     \n",
    "        self.learning_rate = learning_rate\n",
    "    \n",
    "    def check_true(self, X, Y, w, b):\n",
    "        '''\n",
    "        check whether there are some mis-classified points\n",
    "        '''\n",
    "        temp1 = np.squeeze(w.T.dot(X.T)) + b\n",
    "        temp1 = np.apply_along_axis(lambda x: -1 if x <= 0 else 1, 1, temp1.reshape((len(temp1), 1)))\n",
    "        temp = np.sum(abs(temp1 - np.squeeze(Y)))\n",
    "        if temp > 0:\n",
    "            return False\n",
    "        else:\n",
    "            return True\n",
    "        \n",
    "    def check_dual_true(self, X, y, parameter, b):\n",
    "        '''\n",
    "        check whether there are some mis-classified points\n",
    "        '''\n",
    "        temp1 = y * (np.squeeze(parameter.dot(X.T)) + b)\n",
    "        temp1 = np.apply_along_axis(lambda x: -1 if x <= 0 else 1, 1, temp1.reshape((len(temp1), 1)))\n",
    "        temp = np.sum(abs(temp1 - np.squeeze(Y)))\n",
    "        if temp > 0:\n",
    "            return False\n",
    "        else:\n",
    "            return True\n",
    "        \n",
    "    def fit_prime(self, X, Y):\n",
    "        '''\n",
    "        Parameters:\n",
    "        -- X: [Matrix] each row denotes one sample\n",
    "        -- Y: [Vector] each row denotes the corresponding label\n",
    "        Return: object\n",
    "        '''\n",
    "        # Initialization\n",
    "        Y = np.squeeze(Y)\n",
    "        w = np.zeros((np.shape(X)[1], 1))\n",
    "        b = 0\n",
    "        counter = 0\n",
    "        num_sample = np.shape(X)[0]\n",
    "        \n",
    "        # Training\n",
    "        while True:\n",
    "            row = counter % num_sample\n",
    "            if Y[row] * (w.T.dot(X[row].T) + b) <= 0:\n",
    "                add1 = self.learning_rate * Y[row] * X[row]\n",
    "                w = w + add1.reshape(np.shape(w))\n",
    "                b = b + self.learning_rate * Y[row]\n",
    "            counter = counter + 1\n",
    "            if self.check_true(X, Y, w, b) == True:\n",
    "                self._coeff = w\n",
    "                self._intercept = b\n",
    "                return self\n",
    "            \n",
    "    def fit_dual(self, X, Y):\n",
    "        '''\n",
    "        Parameters:\n",
    "        -- X: [Matrix] each row denotes one sample\n",
    "        -- Y: [Vector] each row denotes the corresponding label\n",
    "        Return: object\n",
    "        '''\n",
    "        # Initialization\n",
    "        Y = np.squeeze(Y)\n",
    "        a = np.zeros(np.shape(X)[0])\n",
    "        b = 0\n",
    "        counter = 0\n",
    "        num_sample = np.shape(X)[0]\n",
    "        \n",
    "        # Training\n",
    "        while True:\n",
    "            row = counter % num_sample\n",
    "            parameter = np.zeros(np.shape(X)[1])\n",
    "            for i in range(num_sample):\n",
    "                parameter += a[i] * Y[i] * X[i]\n",
    "            if Y[row] * (parameter.dot(X[row].T) + b) <= 0:\n",
    "                a[row] = a[row] + self.learning_rate\n",
    "                b = b + self.learning_rate * Y[row]\n",
    "            counter = counter + 1\n",
    "            if self.check_dual_true(X, Y[row], parameter, b) == True:\n",
    "                self._coeff = a\n",
    "                self._intercept = b\n",
    "                return self\n",
    "            \n",
    "    def _get_coeff(self):\n",
    "        print(\"Coefficients: {},\\n Intercept: {}\".format(np.squeeze(self._coeff), self._intercept))\n",
    "        return self._coeff, self._intercept\n",
    "            \n",
    "    def prime_predict(self, X):\n",
    "        temp = self._coeff.T.dot(X.T)\n",
    "        temp = temp + np.ones(temp.shape) * self._intercept\n",
    "        temp = np.squeeze(temp)\n",
    "        out = np.apply_along_axis(lambda x: 1 if x>=0 else -1, 1, temp.reshape((len(temp),1)))\n",
    "        return out  \n",
    "    \n",
    "    def dual_predict(self, X, Y):\n",
    "        num_sample = np.shape(X)[0]\n",
    "        parameter = np.zeros(np.shape(X)[1])\n",
    "        for i in range(num_sample):\n",
    "            parameter += self._coeff[i] * Y[i] * X[i]\n",
    "            \n",
    "        temp = parameter.dot(X.T)\n",
    "        temp = temp + np.ones(temp.shape) * self._intercept\n",
    "        temp = np.squeeze(temp)\n",
    "        out = np.apply_along_axis(lambda x: 1 if x>=0 else -1, 1, temp.reshape((len(temp),1)))\n",
    "        return out "
   ]
  },
  {
   "cell_type": "markdown",
   "metadata": {},
   "source": [
    "#### Ex 2.1 原始形式"
   ]
  },
  {
   "cell_type": "code",
   "execution_count": 2,
   "metadata": {
    "scrolled": true
   },
   "outputs": [
    {
     "name": "stdout",
     "output_type": "stream",
     "text": [
      "Coefficients: [1. 1.],\n",
      " Intercept: -3\n"
     ]
    },
    {
     "data": {
      "text/plain": [
       "array([ 1,  1, -1])"
      ]
     },
     "execution_count": 2,
     "metadata": {},
     "output_type": "execute_result"
    }
   ],
   "source": [
    "X = np.array([[3, 3], [4, 3], [1, 1]])\n",
    "Y = np.array([1, 1, -1])\n",
    "\n",
    "perceptron = perceptron(learning_rate=1)\n",
    "perceptron.fit_prime(X, Y)\n",
    "perceptron._get_coeff()\n",
    "perceptron.prime_predict(X)"
   ]
  },
  {
   "cell_type": "markdown",
   "metadata": {},
   "source": [
    "#### Ex 2.2 对偶形式"
   ]
  },
  {
   "cell_type": "code",
   "execution_count": 5,
   "metadata": {},
   "outputs": [
    {
     "name": "stdout",
     "output_type": "stream",
     "text": [
      "Coefficients: [2. 0. 5.],\n",
      " Intercept: -3\n"
     ]
    },
    {
     "data": {
      "text/plain": [
       "array([ 1,  1, -1])"
      ]
     },
     "execution_count": 5,
     "metadata": {},
     "output_type": "execute_result"
    }
   ],
   "source": [
    "X = np.array([[3, 3], [4, 3], [1, 1]])\n",
    "Y = np.array([1, 1, -1])\n",
    "\n",
    "perceptron = perceptron(learning_rate=1)\n",
    "perceptron.fit_dual(X, Y)\n",
    "perceptron._get_coeff()\n",
    "perceptron.dual_predict(X, Y)"
   ]
  }
 ],
 "metadata": {
  "kernelspec": {
   "display_name": "Python 3",
   "language": "python",
   "name": "python3"
  },
  "language_info": {
   "codemirror_mode": {
    "name": "ipython",
    "version": 3
   },
   "file_extension": ".py",
   "mimetype": "text/x-python",
   "name": "python",
   "nbconvert_exporter": "python",
   "pygments_lexer": "ipython3",
   "version": "3.6.8"
  }
 },
 "nbformat": 4,
 "nbformat_minor": 2
}
